{
 "cells": [
  {
   "cell_type": "markdown",
   "metadata": {},
   "source": [
    "Класс клаузы, которая хранит лексемы (одно слово)"
   ]
  },
  {
   "cell_type": "code",
   "execution_count": 27,
   "metadata": {
    "collapsed": false
   },
   "outputs": [
    {
     "ename": "SyntaxError",
     "evalue": "can't assign to operator (<ipython-input-27-2ffc41b6f50a>, line 27)",
     "output_type": "error",
     "traceback": [
      "\u001b[0;36m  File \u001b[0;32m\"<ipython-input-27-2ffc41b6f50a>\"\u001b[0;36m, line \u001b[0;32m27\u001b[0m\n\u001b[0;31m    tstr+c=c.getStringRepr()+','\u001b[0m\n\u001b[0m    ^\u001b[0m\n\u001b[0;31mSyntaxError\u001b[0m\u001b[0;31m:\u001b[0m can't assign to operator\n"
     ]
    }
   ],
   "source": [
    "from abc import abstractmethod\n",
    "class Clause:\n",
    "    stringRepr=''\n",
    "    globalId=0\n",
    "    \n",
    "    def __init__(self, _srepr):\n",
    "        self.count=0\n",
    "        self.stringRepr=_srepr\n",
    "        self.id=Clause.globalId+1\n",
    "        Clause.globalId+=1\n",
    "    \n",
    "    @abstractmethod\n",
    "    def getStringRepr(self):\n",
    "        pass\n",
    "    \n",
    "class WordClause(Clause):\n",
    "    def getStringRepr(self):\n",
    "        return self.stringRepr\n",
    "\n",
    "class ComplexClause(Clause):\n",
    "    def __init__(self, _srepr):\n",
    "        Clause.__init__(self, _srepr)\n",
    "        self.childs=[]\n",
    "    def getStringRepr(self):\n",
    "        tstr=self.stringRepr+'['\n",
    "        for c in self.childs:\n",
    "            tstr+c=c.getStringRepr()+','\n",
    "        if len(self.childs)!=0:\n",
    "            tstr=tstr[:-1]\n",
    "        tstr+=']'\n",
    "        return tstr\n",
    "    \n",
    "    def addClause(self,cla):\n",
    "        self.childs.append(cla)    "
   ]
  },
  {
   "cell_type": "code",
   "execution_count": null,
   "metadata": {
    "collapsed": true
   },
   "outputs": [],
   "source": [
    "class ClauseTest(unittest.TestCase):\n",
    "    def setUp(self):\n",
    "        self.cl1=WordClause('123')\n",
    "        cl2=WordClause('345')\n",
    "        cl3=WordClause('345')\n",
    "        cl4=WordClause('345')\n",
    "        ccl1=ComplexClause('qwe')\n",
    "        ccl2=ComplexClause('zxc')\n",
    "        ccl3=ComplexClause('poi')\n",
    "    def complexClauseAddTest(self):\n",
    "        ccl1.addClause(cl1)\n",
    "        self.assertEqual(len(ccl1.childs(,1))\n",
    "        ccl1.addClause(cl2)\n",
    "        self.assertEqual(len(ccl1.childs),2)\n",
    "        ccl2.addClause(cl2)\n",
    "        ccl3.addClause(cl4)\n",
    "        self.assertEqual(len(ccl3.childs),1)\n",
    "        ccl3.addClause(ccl2)\n",
    "        self.assertEqual(len(ccl3.childs),2)\n",
    "                         \n",
    "    def wordClauseStringReprTest(self):\n",
    "        cl2.getStringRepr()\n",
    "        "
   ]
  },
  {
   "cell_type": "code",
   "execution_count": null,
   "metadata": {
    "collapsed": true
   },
   "outputs": [],
   "source": [
    "import unittest\n",
    "\n",
    "class TestStringMethods(unittest.TestCase):\n",
    "\n",
    "    def test_upper(self):\n",
    "        self.assertEqual('foo'.upper(), 'FOO')\n",
    "\n",
    "    def test_isupper(self):\n",
    "        self.assertTrue('FOO'.isupper())\n",
    "        self.assertFalse('Foo'.isupper())\n",
    "\n",
    "    def test_split(self):\n",
    "        s = 'hello world'\n",
    "        self.assertEqual(s.split(), ['hello', 'world'])\n",
    "        # check that s.split fails when the separator is not a string\n",
    "        with self.assertRaises(TypeError):\n",
    "            s.split(2)\n",
    "\n",
    "if __name__ == '__main__':\n",
    "    unittest.main()"
   ]
  },
  {
   "cell_type": "code",
   "execution_count": null,
   "metadata": {
    "collapsed": true
   },
   "outputs": [],
   "source": []
  },
  {
   "cell_type": "code",
   "execution_count": null,
   "metadata": {
    "collapsed": true
   },
   "outputs": [],
   "source": []
  },
  {
   "cell_type": "code",
   "execution_count": 15,
   "metadata": {
    "collapsed": false
   },
   "outputs": [
    {
     "data": {
      "text/plain": [
       "1"
      ]
     },
     "execution_count": 15,
     "metadata": {},
     "output_type": "execute_result"
    }
   ],
   "source": [
    "cl.id"
   ]
  }
 ],
 "metadata": {
  "kernelspec": {
   "display_name": "Python 3",
   "language": "python",
   "name": "python3"
  },
  "language_info": {
   "codemirror_mode": {
    "name": "ipython",
    "version": 3
   },
   "file_extension": ".py",
   "mimetype": "text/x-python",
   "name": "python",
   "nbconvert_exporter": "python",
   "pygments_lexer": "ipython3",
   "version": "3.6.0"
  }
 },
 "nbformat": 4,
 "nbformat_minor": 2
}
